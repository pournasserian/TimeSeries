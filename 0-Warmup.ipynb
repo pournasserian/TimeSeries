{
 "cells": [
  {
   "cell_type": "markdown",
   "metadata": {},
   "source": [
    "# Statistics\n",
    "## Mean (Average)\n",
    "\n",
    "- It is represented as $\\large\\overline{x}$ or $\\large\\mu$.\n",
    "\\begin{align}\n",
    "\\large\n",
    "\\bar{x} = \\mu = \\frac{1} {n} \\sum_{i=1}^{n}x_i  = (x_1 + x_2 + x_3 +\\dots+x_n)/n \\\\\n",
    "\\end{align}\n",
    "\n",
    "## Standard Deviation (STD)\n",
    "- We represent it with $\\large s$ or Greek letter $\\large\\sigma$.\n",
    "- It used to quantify the amount of variation of a set of data values.\n",
    "\\begin{align}\n",
    "\\large\n",
    "s^2 = \\frac{1} {n} {\\displaystyle\\sum_{i=1}^{n}(x_i - \\bar{x})^2} \n",
    "\\end{align}\n",
    "\n",
    "\n",
    "- In the population standard deviation formula, the denominator is $\\large n$ instead of $\\large n - 1$. It is rare that measurements can be taken for an entire population.\n",
    "- So, by default, statistical software packages calculate the sample standard deviation.\n",
    "\n",
    "\\begin{align}\n",
    "\\large\n",
    "s = \\sqrt{\\frac{\\displaystyle\\sum_{i=1}^{n}(x_i - \\bar{x})^2} {n - 1}  }\n",
    "\\end{align}\n",
    "\n",
    "\n",
    "### Why Standard Deviation is important?!\n",
    "\n",
    "<img src=\"images/sd.png\">\n",
    "\n",
    "<img src=\"images/sd1.png\">\n",
    "\n",
    "\n",
    "## Variance\n",
    "\n",
    "\\begin{align}\n",
    "\\large\n",
    "Var(x) = s^2\n",
    "\\end{align}\n",
    "\n",
    "## Covariance\n",
    "\n",
    "\\begin{align}\n",
    "\\large\n",
    "Cov(x,y) = \\frac {1} {n-1} \\displaystyle\\sum_{i=1}^{n}(x_i - \\bar{x})  (y_i - \\bar{y})\n",
    "\\end{align}\n",
    "\n",
    "## Interquartile Range (IQR)\n",
    "\n",
    "<img src=\"images/simple.box.defs.gif\">\n"
   ]
  },
  {
   "cell_type": "markdown",
   "metadata": {},
   "source": [
    "# Definition of Time Series\n",
    "- An ordered sequence of values of a variable at equally spaced time intervals.\n",
    "- Time series have \"memory\": a value in each time has relation with previous values (Autocorrelation).\n",
    "- Random variables (like the result of rolling dice) is NOT time series."
   ]
  },
  {
   "cell_type": "markdown",
   "metadata": {},
   "source": [
    "# Time Series Components\n",
    "## Trend\n",
    "A trend exists when there is a long-term increase or decrease in the data. It does not have to be linear. Sometimes we will refer to a trend “changing direction” when it might go from an increasing trend to a decreasing trend.\n",
    "\n",
    "<img src=\"images/trend.png\">\n",
    "\n",
    "<img src=\"images/trend1.jpg\">\n",
    "\n",
    "<img src=\"images/trend2.png\">\n",
    "\n",
    "## Seasonal\n",
    "A seasonal pattern exists when a series is influenced by seasonal factors (e.g., the quarter of the year, the month, or day of the week). Seasonality is always of a fixed and known period.\n",
    "\n",
    "<img src=\"images/trendseasonal.png\">\n",
    "\n",
    "<img src=\"images/trendseasonal1.jpg\">\n",
    "\n",
    "## Irregularity (random)\n",
    "The irregular component is unpredictable. It is the residual time series after the trend-cycle and the seasonal components have been removed. It results from short-term fluctuations in a series which are not systematic and in some instances not predictable.\n",
    "\n",
    "<img src=\"images/0-4.png\">\n",
    "<img src=\"images/0-5.png\">\n",
    "<img src=\"images/0-6.jpg\">\n",
    "<img src=\"images/all1.jpg\">\n",
    "<img src=\"images/all3.png\">\n",
    "\n",
    "## Cyclical\n",
    "A cyclic pattern exists when data exhibit rises and falls that are not of fixed period. The duration of these fluctuations is usually of at least 2 years.\n",
    "\n",
    "<img src=\"images/all2.jpg\">\n"
   ]
  },
  {
   "cell_type": "markdown",
   "metadata": {},
   "source": [
    "# Stationary vs Non-Stationary\n",
    "<img src=\"images/0-1.png\">\n",
    "<img src=\"images/0-2.png\">\n",
    "<img src=\"images/0-3.png\">"
   ]
  },
  {
   "cell_type": "markdown",
   "metadata": {},
   "source": [
    "# Outliers\n",
    "- An outlier is an observation that lies an abnormal distance from other values in a random sample from a population. \n",
    "\n",
    "- Outliers are either 3×IQR or more above the third quartile or 3×IQR or more below the first quartile.\n",
    "\n",
    "- Suspected outliers are are slightly more central versions of outliers: either 1.5×IQR or more above the third quartile or 1.5×IQR or more below the first quartile.\n",
    "\n",
    "\n",
    "<img src=\"images/complex.box.defs.gif\">\n",
    "\n"
   ]
  }
 ],
 "metadata": {
  "kernelspec": {
   "display_name": "Python 3",
   "language": "python",
   "name": "python3"
  },
  "language_info": {
   "codemirror_mode": {
    "name": "ipython",
    "version": 3
   },
   "file_extension": ".py",
   "mimetype": "text/x-python",
   "name": "python",
   "nbconvert_exporter": "python",
   "pygments_lexer": "ipython3",
   "version": "3.6.4"
  }
 },
 "nbformat": 4,
 "nbformat_minor": 2
}
