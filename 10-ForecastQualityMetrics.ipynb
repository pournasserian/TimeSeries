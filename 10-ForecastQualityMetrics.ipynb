{
 "cells": [
  {
   "cell_type": "markdown",
   "metadata": {},
   "source": [
    "# Definitions\n",
    "- $\\large y_1, y_2, \\dots, y_n$ are time series data\n",
    "- $\\large\\bar{y}$ is mean value\n",
    "- $\\large\\hat{y}$ is predicted or calculated value\n",
    "\n",
    "### Total Sum of Squares\n",
    "\\begin{align}\n",
    "\\large\n",
    "SS_{tot} = {\\displaystyle\\sum_{i=1}^{n}(y_i - \\bar{y})^2}  \n",
    "\\end{align}\n",
    "\n",
    "### Sum of Squares of Residuals\n",
    "\\begin{align}\n",
    "\\large\n",
    "SS_{res} = {\\displaystyle\\sum_{i=1}^{n}(y_i - \\hat{y})^2} \n",
    "\\end{align}\n",
    "\n",
    "<img src=\"https://raw.githubusercontent.com/pournasserian/TimeSeries/master/Images/r-squared-graph.png\">\n"
   ]
  },
  {
   "cell_type": "markdown",
   "metadata": {},
   "source": [
    "# Forecast Quality Metrics\n",
    "## R2 Score\n",
    "coefficient of determination (in econometrics, this can be interpreted as the percentage of variance explained by the model), (−∞,1]\n",
    "\n",
    "\\begin{align}\n",
    "\\large\n",
    "R^2 = 1 - \\frac{SS_{res}} {SS_{tot}} = \\frac{ \\displaystyle\\sum(y_i - \\hat{y})^2 } {\\displaystyle\\sum(y_i - \\bar{y})^2}\n",
    "\\end{align}\n",
    "\n",
    "## Mean Absolute Error (MAE)\n",
    "This is an interpretable metric because it has the same unit of measurment as the initial series, [0,+∞)\n",
    "\n",
    "\\begin{align}\n",
    "\\large\n",
    "MAE =\\frac{1}{n}\\displaystyle\\sum\\limits_{i=1}^{n} |y_i - \\hat{y}_i|\n",
    "\\end{align}\n",
    "\n",
    "## Median Absolute Error\n",
    "Again, an interpretable metric that is particularly interesting because it is robust to outliers, [0,+∞)\n",
    "\n",
    "\\begin{align}\n",
    "\\large\n",
    "MedAE = median(|y_1 - \\hat{y}_1|, ... , |y_n - \\hat{y}_n|) \n",
    "\\end{align}\n",
    "\n",
    "## Mean Squared Error\n",
    "The most commonly used metric that gives a higher penalty to large errors and vice versa, [0,+∞)\n",
    "\n",
    "\\begin{align}\n",
    "\\large\n",
    "MSE = \\frac{1}{n}\\displaystyle\\sum\\limits_{i=1}^{n} (y_i - \\hat{y}_i)^2\n",
    "\\end{align}\n",
    "\n",
    "## Mean Squared Logarithmic Error\n",
    "Practically, this is the same as MSE, but we take the logarithm of the series. As a result, we give more weight to small mistakes as well. This is usually used when the data has exponential trends, [0,+∞)\n",
    "\n",
    "\\begin{align}\n",
    "\\large\n",
    "MSLE = \\frac{1}{n}\\sum\\limits_{i=1}^{n} (log(1+y_i) - log(1+\\hat{y}_i))^2\n",
    "\\end{align}\n",
    "\n",
    "## Mean Absolute Percentage Error \n",
    "This is the same as MAE but is computed as a percentage, which is very convenient when you want to explain the quality of the model to management, [0,+∞)\n",
    "\n",
    "\\begin{align}\n",
    "\\large\n",
    "MAPE = \\frac{100}{n}\\sum\\limits_{i=1}^{n} \\frac{|y_i - \\hat{y}_i|}{y_i}\n",
    "\\end{align}\n",
    "\n"
   ]
  }
 ],
 "metadata": {
  "kernelspec": {
   "display_name": "Python 3",
   "language": "python",
   "name": "python3"
  },
  "language_info": {
   "codemirror_mode": {
    "name": "ipython",
    "version": 3
   },
   "file_extension": ".py",
   "mimetype": "text/x-python",
   "name": "python",
   "nbconvert_exporter": "python",
   "pygments_lexer": "ipython3",
   "version": "3.6.4"
  }
 },
 "nbformat": 4,
 "nbformat_minor": 2
}
