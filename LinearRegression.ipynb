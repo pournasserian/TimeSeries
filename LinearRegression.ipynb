{
 "cells": [
  {
   "cell_type": "markdown",
   "metadata": {},
   "source": [
    "# Simple Linear Regression\n",
    "Linear regression assumes a linear or straight line relationship between the input variables (X) and the single output variable (y).\n",
    "\n",
    "### Goal\n",
    "The goal is to find a straight line which has the minimum error.\n",
    "\n",
    "\\begin{align}\n",
    "\\large\n",
    "y_i = b_0 + b_1 x_i\n",
    "\\end{align}\n",
    "\n",
    "### What is minimum error?\n",
    "\n",
    "<img src=\"images/r-squared-graph.png\">\n",
    "\n",
    "If we iterate for each sample data, we have a residual (error) which shows the distance of the line.\n",
    "\n",
    "So, we can represent the line formula with error as below:\n",
    "\n",
    "\\begin{align}\n",
    "\\large\n",
    "y_i = b_0 + b_1 x_i + \\epsilon_i\n",
    "\\end{align}\n",
    "\n",
    "Now, we have to find $b_0$ and $b_1$.\n",
    "\n",
    "What are the best values for $b_0$ and $b_1$?\n",
    "\n",
    "\\begin{align}\n",
    "\\large\n",
    "b_1 = \\frac {\\displaystyle\\sum_{i=1}^{n}(x_i - \\bar{x})  (y_i - \\bar{y})} {\\displaystyle\\sum_{i=1}^{n}(x_i - \\bar{x})^2} = \\frac {Cov(x,y)} {Var(x)}\n",
    "\\end{align}\n",
    "\n",
    "\\begin{align}\n",
    "\\large\n",
    "b_0 = \\bar{y} - b_1 \\bar{x}\n",
    "\\end{align}\n"
   ]
  }
 ],
 "metadata": {
  "kernelspec": {
   "display_name": "Python 3",
   "language": "python",
   "name": "python3"
  },
  "language_info": {
   "codemirror_mode": {
    "name": "ipython",
    "version": 3
   },
   "file_extension": ".py",
   "mimetype": "text/x-python",
   "name": "python",
   "nbconvert_exporter": "python",
   "pygments_lexer": "ipython3",
   "version": "3.6.4"
  }
 },
 "nbformat": 4,
 "nbformat_minor": 2
}
